{
 "cells": [
  {
   "cell_type": "markdown",
   "id": "13616aba",
   "metadata": {},
   "source": [
    "## Получение результатов работы модели на данных генной экспрессии и рекомендательных систем."
   ]
  },
  {
   "cell_type": "markdown",
   "id": "3405a4e5",
   "metadata": {},
   "source": [
    "Функция получения списков строк "
   ]
  },
  {
   "cell_type": "code",
   "execution_count": 13,
   "id": "e6f93354",
   "metadata": {},
   "outputs": [],
   "source": [
    "def get_biclusters_lists(matrix):\n",
    "    biclusters_rows = []\n",
    "    biclusters_cols = []\n",
    "    for i in range(len(matrix)):\n",
    "        for j in range(len(matrix[i])):\n",
    "            if matrix[i][j] == 1:\n",
    "                found = False\n",
    "                for i_find in range(len(biclusters_rows)):\n",
    "                    for j_find in range(len(biclusters_rows[i_find])):\n",
    "                        if biclusters_rows[i_find][j_find] == i:\n",
    "                            biclusters_cols[i_find].append(j)\n",
    "                            found = True\n",
    "                            break\n",
    "                    if found:\n",
    "                        break\n",
    "                for i_find in range(len(biclusters_cols)):\n",
    "                    for j_find in range(len(biclusters_cols[i_find])):\n",
    "                        if biclusters_cols[i_find][j_find] == j:\n",
    "                            biclusters_rows[i_find].append(i)\n",
    "                            found = True\n",
    "                            break\n",
    "                    if found:\n",
    "                        break\n",
    "                if not found:\n",
    "                    biclusters_rows.append([i])\n",
    "                    biclusters_cols.append([j])\n",
    "                \n",
    "    for i in range(len(biclusters_rows)):\n",
    "        biclusters_rows[i] = list(set(biclusters_rows[i])) \n",
    "        biclusters_cols[i] = list(set(biclusters_cols[i])) \n",
    "    \n",
    "    return biclusters_rows, biclusters_cols"
   ]
  },
  {
   "cell_type": "markdown",
   "id": "235183bf",
   "metadata": {},
   "source": [
    "Функция получения целевой проблемы формирования производственных ячеек."
   ]
  },
  {
   "cell_type": "code",
   "execution_count": 14,
   "id": "36c8e64f",
   "metadata": {},
   "outputs": [],
   "source": [
    "def get_global_objective(clusters_matrix, matrix):\n",
    "    \n",
    "    n1in_count = 0\n",
    "    n0in_count = 0\n",
    "    matrix = np.array(matrix)\n",
    "    x_size, y_size = matrix.shape\n",
    "    for i in range(x_size):\n",
    "        for j in range(y_size):\n",
    "            if clusters_matrix[i][j] == 1:\n",
    "                if matrix[i][j] == 1:\n",
    "                    n1in_count += 1\n",
    "                else: \n",
    "                    n0in_count += 1\n",
    "                \n",
    "    n1_global = sum([matrix[i][j] for i in range(x_size) for j in range(y_size)])            \n",
    "    return n1in_count/(n1_global + n0in_count)"
   ]
  },
  {
   "cell_type": "markdown",
   "id": "81c06f94",
   "metadata": {},
   "source": [
    "Функция получения локальных целевых для бикластеров, тип зависит от переменной `can_overlap`."
   ]
  },
  {
   "cell_type": "code",
   "execution_count": 15,
   "id": "dce05da8",
   "metadata": {},
   "outputs": [],
   "source": [
    "def get_overlap_objectives(biclusters_rows, biclusters_cols, matrix, can_overlap=False):\n",
    "    \n",
    "    objectives_1d = []\n",
    "    used_cols = set()\n",
    "    used_rows = set()\n",
    "    for i in range(len(biclusters_rows)):\n",
    "        \n",
    "        n1in_count = 0\n",
    "        n0in_count = 0\n",
    "        \n",
    "        n1_global = 0\n",
    "        \n",
    "        all_rows = set(range(len(matrix)))\n",
    "        all_cols = set(range(len(matrix[0])))\n",
    "        for j in biclusters_cols[i]:\n",
    "            active_rows = all_rows if can_overlap else (all_rows - used_rows) \n",
    "            for k in active_rows:\n",
    "                if (k in biclusters_rows[i] and j in biclusters_cols[i] \n",
    "                    and k not in used_rows and j not in used_cols):\n",
    "                        n1in_count += matrix[k][j]\n",
    "                        n0in_count += 1 - matrix[k][j]\n",
    "                n1_global += matrix[k][j]\n",
    "                \n",
    "        used_cols.update(biclusters_cols[i])\n",
    "        for j in biclusters_rows[i]:\n",
    "            active_cols = all_cols if can_overlap else (all_cols - used_cols) \n",
    "            for k in active_cols:\n",
    "                if (j in biclusters_rows[i] and k in biclusters_cols[i] \n",
    "                    and j not in used_rows and k not in used_cols):\n",
    "                        n1in_count += matrix[j][k]\n",
    "                        n0in_count += 1 - matrix[j][k]\n",
    "                n1_global += matrix[j][k]\n",
    "                \n",
    "        used_rows.update(biclusters_rows[i])\n",
    "                \n",
    "        objectives_1d.append(n1in_count/(n1_global + n0in_count))\n",
    "        \n",
    "    return objectives_1d"
   ]
  },
  {
   "cell_type": "markdown",
   "id": "246a7c6e",
   "metadata": {},
   "source": [
    "Получение списка датасетов."
   ]
  },
  {
   "cell_type": "code",
   "execution_count": 16,
   "id": "173b0569",
   "metadata": {
    "scrolled": true
   },
   "outputs": [],
   "source": [
    "import pandas as pd\n",
    "import os\n",
    "import numpy as np\n",
    "\n",
    "directory = \"./GEOsets/\"\n",
    "\n",
    "def getDatasetsList(path):\n",
    "    GEO_files = [f for f in os.listdir(path) if f.endswith('.soft.gz')]\n",
    "    return GEO_files           \n",
    "                \n",
    "datasets_files = []\n",
    "GEO_files = getDatasetsList(\"./GEOsets/\")\n",
    "for current_file in GEO_files:\n",
    "    datasets_files.append(current_file.split('.')[0])"
   ]
  },
  {
   "cell_type": "markdown",
   "id": "679f3e3d",
   "metadata": {},
   "source": [
    "Подсчет целевых всех типов по каждому результативному файлу с формированными бикластерами."
   ]
  },
  {
   "cell_type": "code",
   "execution_count": 17,
   "id": "028eb305",
   "metadata": {},
   "outputs": [
    {
     "name": "stdout",
     "output_type": "stream",
     "text": [
      "GDS1406less10\n",
      "GDS1406less20\n",
      "GDS1406less30\n",
      "GDS1406more10\n",
      "GDS1406more20\n",
      "GDS1406more30\n",
      "GDS1451less10\n",
      "GDS1451less20\n",
      "GDS1451less30\n",
      "GDS1451more10\n",
      "GDS1451more20\n",
      "GDS1451more30\n",
      "GDS3716less10\n",
      "GDS3716less20\n",
      "GDS3716less30\n",
      "GDS3716more10\n",
      "GDS3716more20\n",
      "GDS3716more30\n"
     ]
    }
   ],
   "source": [
    "import gurobipy as gp\n",
    "from gurobipy import GRB, quicksum\n",
    "from IPython.display import clear_output\n",
    "import matplotlib.pyplot as plt \n",
    "import seaborn as sns\n",
    "\n",
    "\n",
    "\n",
    "datasets_objectives_1dir = []\n",
    "datasets_objectives_2dir = []\n",
    "datasets_objectives = []\n",
    "datasets_types = []\n",
    "cells_number = []\n",
    "for current_file in datasets_files:\n",
    "    current_files = [f for f in os.listdir('./cfp_original/') if f.startswith(current_file)]\n",
    "    current_ds_types = []\n",
    "    cur_objectives_1dir = []\n",
    "    cur_objectives_2dir = []\n",
    "    cur_objectives = []\n",
    "    cur_cells_num = []\n",
    "    for cur_ds_file in current_files:\n",
    "    \n",
    "        print(cur_ds_file)\n",
    "        with open('./cfp_original/' + cur_ds_file) as f:\n",
    "            matrix = [list(map(int, row.split(\"\\t\")[1:])) for row in f.readlines()[1:]\n",
    "                        if sum(list(map(int, row.split(\"\\t\")[1:]))) > 0]\n",
    "        with open('./cfp_solutions/' + cur_ds_file + \"_gp\") as f:\n",
    "            clusters_matrix = [list(map(int, row.split(\"\\t\")[1:])) for row in f.readlines()[1:]]\n",
    "        \n",
    "        values_original_list = []\n",
    "        flat_original_list = [item for sublist in clusters_matrix for item in sublist]\n",
    "        values_original_list += flat_original_list\n",
    "        \n",
    "        if sum(values_original_list) == 0:\n",
    "            \n",
    "            cur_objectives_1dir.append([])\n",
    "            cur_objectives_2dir.append([])\n",
    "            cur_objectives.append(0)\n",
    "            current_ds_types.append(cur_ds_file.replace(current_file, \"\"))\n",
    "            \n",
    "        else:\n",
    "            biclusters_rows, biclusters_cols = get_biclusters_lists(clusters_matrix)\n",
    "        \n",
    "            objectives_1d = get_overlap_objectives(biclusters_rows, biclusters_cols, matrix)\n",
    "            objectives_2d = get_overlap_objectives(biclusters_rows, biclusters_cols, matrix, True)\n",
    "        \n",
    "            cur_objectives_1dir.append(objectives_1d)\n",
    "            cur_objectives_2dir.append(objectives_2d)\n",
    "            cur_objectives.append(get_global_objective(clusters_matrix, matrix))\n",
    "            cur_cells_num.append(len(biclusters_rows))\n",
    "            current_ds_types.append(cur_ds_file.replace(current_file, \"\"))\n",
    "        \n",
    "    datasets_objectives_1dir.append(cur_objectives_1dir)\n",
    "    datasets_objectives_2dir.append(cur_objectives_2dir)\n",
    "    datasets_objectives.append(cur_objectives)\n",
    "    datasets_types.append(current_ds_types)\n",
    "    cells_number.append(cur_cells_num)"
   ]
  },
  {
   "cell_type": "code",
   "execution_count": 18,
   "id": "9ae64c32",
   "metadata": {},
   "outputs": [
    {
     "name": "stdout",
     "output_type": "stream",
     "text": [
      "GDS1406less10 mean 1 direction objective: 0.482018 , max:0.642608, min:0.321429\n",
      "GDS1406less20 mean 1 direction objective: 0.473449 , max:0.677668, min:0.269231\n",
      "GDS1406less30 mean 1 direction objective: 0.482730 , max:0.696228, min:0.269231\n",
      "GDS1406more10 mean 1 direction objective: 0.616980 , max:1.000000, min:0.260870\n",
      "GDS1406more20 mean 1 direction objective: 0.301280 , max:0.667279, min:0.075269\n",
      "GDS1406more30 mean 1 direction objective: 0.323121 , max:0.697115, min:0.063291\n",
      "GDS1451less10 mean 1 direction objective: 0.432230 , max:0.558904, min:0.305556\n",
      "GDS1451less20 mean 1 direction objective: 0.382274 , max:0.700855, min:0.063694\n",
      "GDS1451less30 mean 1 direction objective: 0.588344 , max:0.610022, min:0.566667\n",
      "GDS1451more10 mean 1 direction objective: 0.293919 , max:0.504505, min:0.083333\n",
      "GDS1451more20 mean 1 direction objective: 0.309944 , max:0.469304, min:0.210526\n",
      "GDS1451more30 solution not found!\n",
      "GDS3716less10 mean 1 direction objective: 0.462113 , max:0.813115, min:0.111111\n",
      "GDS3716less20 mean 1 direction objective: 0.719907 , max:0.814815, min:0.625000\n",
      "GDS3716less30 mean 1 direction objective: 0.753561 , max:0.807122, min:0.700000\n",
      "GDS3716more10 mean 1 direction objective: 0.519198 , max:0.788396, min:0.250000\n",
      "GDS3716more20 mean 1 direction objective: 0.665161 , max:0.758893, min:0.571429\n",
      "GDS3716more30 mean 1 direction objective: 0.615462 , max:0.730924, min:0.500000\n"
     ]
    }
   ],
   "source": [
    "for i in range(len(datasets_types)):\n",
    "    for j in range(len(datasets_types[i])):\n",
    "        if len(datasets_objectives_1dir[i][j]) == 0:\n",
    "            print(\"{file_name} solution not found!\".format(file_name=datasets_files[i]+datasets_types[i][j]))\n",
    "        else:\n",
    "            print(\"{file_name} mean 1 direction objective: {obj:.6f} \\\n",
    ", max:{max_v:.6f}, min:{min_v:.6f}\".format(file_name=datasets_files[i]+datasets_types[i][j], \n",
    "                                                                     obj=np.mean(datasets_objectives_1dir[i][j]),\n",
    "                                          min_v=min(datasets_objectives_1dir[i][j]),\n",
    "                                          max_v=max(datasets_objectives_1dir[i][j])))"
   ]
  },
  {
   "cell_type": "code",
   "execution_count": 19,
   "id": "8e6bda6a",
   "metadata": {},
   "outputs": [
    {
     "name": "stdout",
     "output_type": "stream",
     "text": [
      "GDS1406less10 mean 2 direction objective: 0.227749 , max:0.391212, min:0.064286\n",
      "GDS1406less20 mean 2 direction objective: 0.228482 , max:0.403934, min:0.053030\n",
      "GDS1406less30 mean 2 direction objective: 0.231744 , max:0.410457, min:0.053030\n",
      "GDS1406more10 mean 2 direction objective: 0.189783 , max:0.371097, min:0.058252\n",
      "GDS1406more20 mean 2 direction objective: 0.190268 , max:0.361914, min:0.070000\n",
      "GDS1406more30 mean 2 direction objective: 0.195703 , max:0.358911, min:0.059524\n",
      "GDS1451less10 mean 2 direction objective: 0.209317 , max:0.358524, min:0.060109\n",
      "GDS1451less20 mean 2 direction objective: 0.216587 , max:0.373293, min:0.059880\n",
      "GDS1451less30 mean 2 direction objective: 0.233948 , max:0.378890, min:0.089005\n",
      "GDS1451more10 mean 2 direction objective: 0.179713 , max:0.335329, min:0.024096\n",
      "GDS1451more20 mean 2 direction objective: 0.144993 , max:0.319406, min:0.050000\n",
      "GDS1451more30 solution not found!\n",
      "GDS3716less10 mean 2 direction objective: 0.235343 , max:0.448463, min:0.022222\n",
      "GDS3716less20 mean 2 direction objective: 0.275510 , max:0.448980, min:0.102041\n",
      "GDS3716less30 mean 2 direction objective: 0.276347 , max:0.446634, min:0.106061\n",
      "GDS3716more10 mean 2 direction objective: 0.238277 , max:0.440840, min:0.035714\n",
      "GDS3716more20 mean 2 direction objective: 0.257397 , max:0.431461, min:0.083333\n",
      "GDS3716more30 mean 2 direction objective: 0.246851 , max:0.422274, min:0.071429\n"
     ]
    }
   ],
   "source": [
    "for i in range(len(datasets_types)):\n",
    "    for j in range(len(datasets_types[i])):\n",
    "        if len(datasets_objectives_2dir[i][j]) == 0:\n",
    "            print(\"{file_name} solution not found!\".format(file_name=datasets_files[i]+datasets_types[i][j]))\n",
    "        else:\n",
    "            print(\"{file_name} mean 2 direction objective: {obj:.6f} \\\n",
    ", max:{max_v:.6f}, min:{min_v:.6f}\".format(file_name=datasets_files[i]+datasets_types[i][j], \n",
    "                                                                     obj=np.mean(datasets_objectives_2dir[i][j]),\n",
    "                                          min_v=min(datasets_objectives_2dir[i][j]),\n",
    "                                          max_v=max(datasets_objectives_2dir[i][j])))"
   ]
  },
  {
   "cell_type": "code",
   "execution_count": 20,
   "id": "d91887e5",
   "metadata": {},
   "outputs": [
    {
     "name": "stdout",
     "output_type": "stream",
     "text": [
      "GDS1406less10 objective: 0.632469, with 2 cells\n",
      "GDS1406less20 objective: 0.666310, with 2 cells\n",
      "GDS1406less30 objective: 0.685204, with 2 cells\n",
      "GDS1406more10 objective: 0.583673, with 3 cells\n",
      "GDS1406more20 objective: 0.561377, with 3 cells\n",
      "GDS1406more30 objective: 0.549822, with 3 cells\n",
      "GDS1451less10 objective: 0.546997, with 2 cells\n",
      "GDS1451less20 objective: 0.584400, with 2 cells\n",
      "GDS1451less30 objective: 0.608650, with 2 cells\n",
      "GDS1451more10 objective: 0.491885, with 2 cells\n",
      "GDS1451more20 objective: 0.461640, with 3 cells\n",
      "GDS1451more30 solution not found!\n",
      "GDS3716less10 objective: 0.792994, with 2 cells\n",
      "GDS3716less20 objective: 0.810241, with 2 cells\n",
      "GDS3716less30 objective: 0.804035, with 2 cells\n",
      "GDS3716more10 objective: 0.781145, with 2 cells\n",
      "GDS3716more20 objective: 0.753846, with 2 cells\n",
      "GDS3716more30 objective: 0.725490, with 2 cells\n"
     ]
    }
   ],
   "source": [
    "for i in range(len(datasets_types)):\n",
    "    for j in range(len(datasets_types[i])):\n",
    "        if datasets_objectives[i][j] == 0:\n",
    "            print(\"{file_name} solution not found!\".format(file_name=datasets_files[i]+datasets_types[i][j]))\n",
    "        else:\n",
    "            print(\"{file_name} objective: {obj:.6f}, with \\\n",
    "{cells_n} cells\".format(file_name=datasets_files[i]+datasets_types[i][j],\n",
    "                        obj=datasets_objectives[i][j], cells_n=cells_number[i][j]))"
   ]
  }
 ],
 "metadata": {
  "kernelspec": {
   "display_name": "Python 3 (ipykernel)",
   "language": "python",
   "name": "python3"
  },
  "language_info": {
   "codemirror_mode": {
    "name": "ipython",
    "version": 3
   },
   "file_extension": ".py",
   "mimetype": "text/x-python",
   "name": "python",
   "nbconvert_exporter": "python",
   "pygments_lexer": "ipython3",
   "version": "3.9.7"
  }
 },
 "nbformat": 4,
 "nbformat_minor": 5
}
